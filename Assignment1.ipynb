{
  "nbformat": 4,
  "nbformat_minor": 0,
  "metadata": {
    "colab": {
      "name": "Assignment1.ipynb",
      "provenance": [],
      "authorship_tag": "ABX9TyPwSHc/MMsVf/X6eDs06R9G",
      "include_colab_link": true
    },
    "kernelspec": {
      "name": "python3",
      "display_name": "Python 3"
    },
    "language_info": {
      "name": "python"
    }
  },
  "cells": [
    {
      "cell_type": "markdown",
      "metadata": {
        "id": "view-in-github",
        "colab_type": "text"
      },
      "source": [
        "<a href=\"https://colab.research.google.com/github/himagandhii/Practice/blob/main/Assignment1.ipynb\" target=\"_parent\"><img src=\"https://colab.research.google.com/assets/colab-badge.svg\" alt=\"Open In Colab\"/></a>"
      ]
    },
    {
      "cell_type": "code",
      "metadata": {
        "colab": {
          "base_uri": "https://localhost:8080/"
        },
        "id": "WC6l7N7qdITT",
        "outputId": "20ea1c46-a1a6-46af-b243-ba1b7d7ef76d"
      },
      "source": [
        "a = int(input(\"Enter first number : \"))\n",
        "b = int(input(\"Enter second number : \"))\n",
        "Subtraction = a - b\n",
        "print(\"Your answer is :\", Subtraction)"
      ],
      "execution_count": null,
      "outputs": [
        {
          "output_type": "stream",
          "text": [
            "Enter first number : 86\n",
            "Enter second number : 45\n",
            "Your answer is : 41\n"
          ],
          "name": "stdout"
        }
      ]
    },
    {
      "cell_type": "code",
      "metadata": {
        "colab": {
          "base_uri": "https://localhost:8080/"
        },
        "id": "P2C0kInGd3lw",
        "outputId": "060db213-9bb7-4ffb-818f-65c3cea50647"
      },
      "source": [
        "a = int(input(\"Enter first number : \"))\n",
        "b = int(input(\"Enter second number : \"))\n",
        "Multiplication = a * b\n",
        "print(\"Your answer is :\", Multiplication)"
      ],
      "execution_count": null,
      "outputs": [
        {
          "output_type": "stream",
          "text": [
            "Enter first number : 45\n",
            "Enter second number : 96\n",
            "Your answer is : 4320\n"
          ],
          "name": "stdout"
        }
      ]
    },
    {
      "cell_type": "code",
      "metadata": {
        "colab": {
          "base_uri": "https://localhost:8080/"
        },
        "id": "XyIjHoa2gWuQ",
        "outputId": "4039b05b-3cfd-4ffc-b26c-24471a3d8e9b"
      },
      "source": [
        "a = float(input(\"Enter first number : \"))\n",
        "b = float(input(\"Enter second number :\"))\n",
        "Division = a / b \n",
        "print(\"Your answer is : \", Division)"
      ],
      "execution_count": null,
      "outputs": [
        {
          "output_type": "stream",
          "text": [
            "Enter first number : 80\n",
            "Enter second number :10\n",
            "Your answer is :  8.0\n"
          ],
          "name": "stdout"
        }
      ]
    }
  ]
}